{
  "cells": [
    {
      "cell_type": "markdown",
      "metadata": {
        "colab_type": "text",
        "id": "view-in-github"
      },
      "source": [
        "<a href=\"https://colab.research.google.com/github/xalejandrow/hypothesis-testing-exercises-project-with-python/blob/main/export/hypothesis-testing.ipynb\" target=\"_parent\"><img src=\"https://colab.research.google.com/assets/colab-badge.svg\" alt=\"Open In Colab\"/></a>"
      ]
    },
    {
      "cell_type": "markdown",
      "id": "190a7d3f",
      "metadata": {
        "id": "190a7d3f"
      },
      "source": [
        "# HYPOTHESIS TESTING"
      ]
    },
    {
      "cell_type": "markdown",
      "id": "0fbc588e",
      "metadata": {
        "id": "0fbc588e"
      },
      "source": [
        "### Density Curves"
      ]
    },
    {
      "cell_type": "markdown",
      "id": "5432a0c4",
      "metadata": {
        "id": "5432a0c4"
      },
      "source": [
        "Having frequency histograms is a good way of looking at how is our data distributed. But at some point, we might want to see what percentage of our data falls into each of the variable's categories. In that case we can build a relative frequency histogram, which will shows us the percentages instead of the quantities. But as we have more and more data we might want to see smaller bins in our histogram so that we can see the distribution much clear. As we continue having more and more data, maybe we want to see even more thin bins which will get us into a point where we approach to an infiinite number of categories and the best way of looking at it would be to connect the top of the bars that you will actually get a curve. This is called the density curve."
      ]
    },
    {
      "cell_type": "markdown",
      "id": "0b133a83",
      "metadata": {
        "id": "0b133a83"
      },
      "source": [
        "![density_curve.jpg](https://github.com/4GeeksAcademy/machine-learning-content/blob/master/assets/density_curve.jpg?raw=1)"
      ]
    },
    {
      "cell_type": "code",
      "execution_count": 2,
      "id": "12cf2f69",
      "metadata": {},
      "outputs": [],
      "source": [
        "import numpy as np\n",
        "import matplotlib.pyplot as plt\n",
        "%matplotlib inline"
      ]
    },
    {
      "cell_type": "code",
      "execution_count": 4,
      "id": "78e7b9d7",
      "metadata": {},
      "outputs": [],
      "source": [
        "my_array = ([1,3,4,5,3,4,5,7,8,6,3,2,4,6,8,5,2,4,6,3,6,4,2,4,7,3,1])"
      ]
    },
    {
      "cell_type": "code",
      "execution_count": 6,
      "id": "f4a306be",
      "metadata": {},
      "outputs": [
        {
          "data": {
            "text/plain": [
              "4.296296296296297"
            ]
          },
          "execution_count": 6,
          "metadata": {},
          "output_type": "execute_result"
        }
      ],
      "source": [
        "np.mean(my_array)"
      ]
    },
    {
      "cell_type": "code",
      "execution_count": 5,
      "id": "3283b323",
      "metadata": {},
      "outputs": [
        {
          "data": {
            "text/plain": [
              "(array([2., 3., 5., 0., 6., 3., 0., 4., 2., 2.]),\n",
              " array([1. , 1.7, 2.4, 3.1, 3.8, 4.5, 5.2, 5.9, 6.6, 7.3, 8. ]),\n",
              " <BarContainer object of 10 artists>)"
            ]
          },
          "execution_count": 5,
          "metadata": {},
          "output_type": "execute_result"
        },
        {
          "data": {
            "image/png": "[encoded data removed]",
            "text/plain": [
              "<Figure size 432x288 with 1 Axes>"
            ]
          },
          "metadata": {
            "needs_background": "light"
          },
          "output_type": "display_data"
        }
      ],
      "source": [
        "plt.hist(my_array)"
      ]
    },
    {
      "cell_type": "code",
      "execution_count": 9,
      "id": "0dda3bde",
      "metadata": {},
      "outputs": [
        {
          "data": {
            "text/plain": [
              "(array([2., 0., 3., 0., 5., 0., 6., 0., 3., 0., 4., 0., 2., 0., 2.]),\n",
              " array([1.        , 1.46666667, 1.93333333, 2.4       , 2.86666667,\n",
              "        3.33333333, 3.8       , 4.26666667, 4.73333333, 5.2       ,\n",
              "        5.66666667, 6.13333333, 6.6       , 7.06666667, 7.53333333,\n",
              "        8.        ]),\n",
              " <BarContainer object of 15 artists>)"
            ]
          },
          "execution_count": 9,
          "metadata": {},
          "output_type": "execute_result"
        },
        {
          "data": {
            "image/png": "[encoded data removed]",
            "text/plain": [
              "<Figure size 432x288 with 1 Axes>"
            ]
          },
          "metadata": {
            "needs_background": "light"
          },
          "output_type": "display_data"
        }
      ],
      "source": [
        "plt.hist(my_array, bins=6)\n",
        "plt.title('Histogram')\n",
        "plt.hist(my_array, bins=15)"
      ]
    },
    {
      "cell_type": "markdown",
      "id": "be2f9b08",
      "metadata": {
        "id": "be2f9b08"
      },
      "source": [
        "**Probability from density curve:**\n",
        "\n",
        "Let's see an example on how to calculate probabilities from density curves:\n",
        "\n",
        "We have a set of women's heights that are normally distributed with a mean of 155 centimeters and a standard deviation of 15 centimeters. The height of a randomly selected women from this set will be denoted as $W$.\n",
        "\n",
        "Find and interpret $P(W > 170)$"
      ]
    },
    {
      "cell_type": "markdown",
      "id": "624d53dc",
      "metadata": {
        "id": "624d53dc"
      },
      "source": [
        "![density_probability_problem.jpg](https://github.com/4GeeksAcademy/machine-learning-content/blob/master/assets/density_probability_problem.jpg?raw=1)"
      ]
    },
    {
      "cell_type": "markdown",
      "id": "24d349f3",
      "metadata": {
        "id": "24d349f3"
      },
      "source": [
        "### Central Limit Theorem"
      ]
    },
    {
      "cell_type": "markdown",
      "id": "34485f25",
      "metadata": {
        "id": "34485f25"
      },
      "source": [
        "\n",
        "When we draw samples of independent random variables (drawn from any single distribution with a finite variance), their sample mean tends toward the population mean and their distribution approaches a normal distribution as sample size increases, regardless of the distribution from which the random variables were drawn. Their variance will approach the population variance divided by the sample size.\n",
        "\n",
        "The central limit theorem describes the shape of the distribution of sample means as a Gaussian or Normal Distribution.\n",
        "The theorem states that as the size of the sample increases, the distribution of the mean across multiple samples will approximate a Gaussian distribution.\n",
        "\n",
        "The central limit theorem does not state anything about a single sample mean, instead it states something about the shape or the distribution of sample means.\n",
        "\n",
        "For example, let's say we have a fair and balanced 6-sided die. The result of rolling the die has a uniform distribution on $[1,2,3,4,5,6]$. The average result from a die roll is $(1+2+3+4+5+6)/6 = 3.5$\n",
        "\n",
        "If we roll the die $10$ times and average the values, then the resulting parameter will have a distribution that begins to look similar to a normal distribution, again centered at $3.5$.\n",
        "\n",
        "If we roll the die $100$ times and average the values, then the resulting parameter will have a distribution that behaves even more similar to a normal distribution, again centered at $3.5$, but now with decreased variance."
      ]
    },
    {
      "cell_type": "markdown",
      "id": "4a322c9a",
      "metadata": {
        "id": "4a322c9a"
      },
      "source": [
        "![central_limit_theorem.jpg](https://github.com/4GeeksAcademy/machine-learning-content/blob/master/assets/central_limit_theorem.jpg?raw=1)"
      ]
    },
    {
      "cell_type": "markdown",
      "id": "7d9fb28c",
      "metadata": {
        "id": "7d9fb28c"
      },
      "source": [
        "### Sampling Methods"
      ]
    },
    {
      "cell_type": "markdown",
      "id": "68bcf37f",
      "metadata": {
        "id": "68bcf37f"
      },
      "source": [
        "Let's imagine we have a population of students. For that population we can calculate parameters, for example the age mean, or the grades standard deviation. These are all population parameters or truths about that population. Sometimes we might not know the population parameter, so the way to estimate that parameter is by taking a sample. \n",
        "\n",
        "The sampling method is the process of studying the population by gathering information and analyzing that data. It refers to how members from that population are selected for the study.\n",
        "\n",
        "**Non-Representative Sampling:**\n",
        "\n",
        "The non-representative sampling method is a technique in which the researcher selects the sample based on subjective judgment rather than the random selection. Not all the members of the population have a chance to participate in the study.\n",
        "\n",
        "\n",
        "-Convenience Sampling = Picks samples that are most convenient, like people that can be easily approached.\n",
        "\n",
        "-Consecutive Sampling = Picks a single person or a group of people for sampling. Then the researcher researches for a period of time to analyze the result and move to another group if needed.\n",
        "\n",
        "-Purposive Sampling = Picks samples for a specific purpose. An example is to focus on extreme cases. This can be useful but is limited because it doesn't allow you to make statements about the whole population.\n",
        "\n",
        "-Snowball Sampling = In this method, the samples have traits that are difficult to find. So, each identified member of a population is asked to find the other sampling units. Those sampling units also belong to the same targeted population.\n",
        "\n",
        "**Representative Sampling:**\n",
        "\n",
        "-Simple Random Sampling = Pick samples (psuedo)randomly. Every item in the population has an equal and likely chance of being selected in the sample.\n",
        "\n",
        "-Systematic Sampling = Pick samples with a fixed interval. For example every 10th sample $(0, 10, 20, etc.)$. It is calculated by dividing the total population size by the desired population size.\n",
        "\n",
        "-Stratified Sampling = The total population is divided into smaller groups formed based on a few characteristics in the population. Pick the same amount of samples from each of the different groups (strata) in the population.\n",
        "\n",
        "-Cluster Sampling = Divide the population into groups (clusters) and pick samples from those groups. The cluster or group of people are formed from the population set. The group has similar significatory characteristics. Also, they have an equal chance of being a part of the sample. This method uses simple random sampling for the cluster of population.\n",
        "\n",
        "Let´s see some examples of how to get samples."
      ]
    },
    {
      "cell_type": "code",
      "execution_count": 10,
      "id": "3f94b681",
      "metadata": {
        "id": "3f94b681"
      },
      "outputs": [
        {
          "ename": "NameError",
          "evalue": "name 'normal_dist' is not defined",
          "output_type": "error",
          "traceback": [
            "\u001b[0;31m---------------------------------------------------------------------------\u001b[0m",
            "\u001b[0;31mNameError\u001b[0m                                 Traceback (most recent call last)",
            "\u001b[1;32m/workspace/hypothesis-testing-exercises-project-with-python/export/hypothesis-testing.ipynb Cell 18'\u001b[0m in \u001b[0;36m<cell line: 2>\u001b[0;34m()\u001b[0m\n\u001b[1;32m      <a href='vscode-notebook-cell://xalejandrow-hypothesist-zh9m6p0fdey.ws-us46.gitpod.io/workspace/hypothesis-testing-exercises-project-with-python/export/hypothesis-testing.ipynb#ch0000012vscode-remote?line=0'>1</a>\u001b[0m \u001b[39m# Convenience samples\u001b[39;00m\n\u001b[0;32m----> <a href='vscode-notebook-cell://xalejandrow-hypothesist-zh9m6p0fdey.ws-us46.gitpod.io/workspace/hypothesis-testing-exercises-project-with-python/export/hypothesis-testing.ipynb#ch0000012vscode-remote?line=1'>2</a>\u001b[0m convenience_samples \u001b[39m=\u001b[39m normal_dist[\u001b[39m0\u001b[39m:\u001b[39m5\u001b[39m]\n\u001b[1;32m      <a href='vscode-notebook-cell://xalejandrow-hypothesist-zh9m6p0fdey.ws-us46.gitpod.io/workspace/hypothesis-testing-exercises-project-with-python/export/hypothesis-testing.ipynb#ch0000012vscode-remote?line=3'>4</a>\u001b[0m \u001b[39m# Purposive samples (Pick samples for a specific purpose)\u001b[39;00m\n\u001b[1;32m      <a href='vscode-notebook-cell://xalejandrow-hypothesist-zh9m6p0fdey.ws-us46.gitpod.io/workspace/hypothesis-testing-exercises-project-with-python/export/hypothesis-testing.ipynb#ch0000012vscode-remote?line=4'>5</a>\u001b[0m \u001b[39m# In this example we pick the 5 highest values in our distribution\u001b[39;00m\n\u001b[1;32m      <a href='vscode-notebook-cell://xalejandrow-hypothesist-zh9m6p0fdey.ws-us46.gitpod.io/workspace/hypothesis-testing-exercises-project-with-python/export/hypothesis-testing.ipynb#ch0000012vscode-remote?line=5'>6</a>\u001b[0m purposive_samples \u001b[39m=\u001b[39m normal_dist\u001b[39m.\u001b[39mnlargest(n\u001b[39m=\u001b[39m\u001b[39m5\u001b[39m)\n",
            "\u001b[0;31mNameError\u001b[0m: name 'normal_dist' is not defined"
          ]
        }
      ],
      "source": [
        "# Convenience samples\n",
        "convenience_samples = normal_dist[0:5]\n",
        "\n",
        "# Purposive samples (Pick samples for a specific purpose)\n",
        "# In this example we pick the 5 highest values in our distribution\n",
        "purposive_samples = normal_dist.nlargest(n=5)\n",
        "\n",
        "# Simple (pseudo)random sample\n",
        "random_samples = normal_dist.sample(5)\n",
        "\n",
        "# Systematic sample (Every 2000th value)\n",
        "systematic_samples = normal_dist[normal_dist.index % 2000 == 0]\n",
        "\n",
        "# Stratified Sampling\n",
        "# We will get 1 person from every classroom in the dataset\n",
        "\n",
        "df = pd.read_csv('dataset.csv')\n",
        "\n",
        "strat_samples = []\n",
        "\n",
        "for classroom in df['Classroom'].unique():\n",
        "    samp = df[df['Classroom'] == classroom].sample(1)\n",
        "    strat_samples.append(samp['Average_grade'].item())\n",
        "    \n",
        "print('Stratified samples:\\n\\n{}\\n'.format(strat_samples))\n",
        "\n",
        "# Cluster Sampling\n",
        "# Make random clusters of ten people (Here with replacement)\n",
        "c1 = normal_dist.sample(10)\n",
        "c2 = normal_dist.sample(10)\n",
        "c3 = normal_dist.sample(10)\n",
        "c4 = normal_dist.sample(10)\n",
        "c5 = normal_dist.sample(10)\n",
        "\n",
        "\n",
        "# Take sample from every cluster (with replacement)\n",
        "clusters = [c1,c2,c3,c4,c5]\n",
        "cluster_samples = []\n",
        "for c in clusters:\n",
        "    clus_samp = c.sample(1)\n",
        "    cluster_samples.extend(clus_samp)\n",
        "print('Cluster samples:\\n\\n{}'.format(cluster_samples))    "
      ]
    },
    {
      "cell_type": "markdown",
      "id": "39eade08",
      "metadata": {
        "id": "39eade08"
      },
      "source": [
        "**Imbalanced datasets**\n",
        "\n",
        "\n",
        "An imbalanced dataset is a dataset where classes are distributed unequally. An imbalanced data can create problems in the classification task. If we are using accuracy as a performance metric, it can create a huge problem. Let’s say our model predicts if a bank transaction was a fraud transaction or a legal transaction. If the total legal transactions represented 99.83%, using an accuracy metric on the credit card dataset will give 99.83% accuracy, which is excellent. Would it be a good result? No.\n",
        "\n",
        "For an imbalanced dataset, other performance metrics should be used, such as the Precision-Recall AUC score, F1 score, etc. Moreover, the model will be biased towards the majority class. Since most machine learning techniques are designed to work well with a balanced dataset, we must create balanced data out of an imbalanced dataset, but first we must split the dataset into training and testing because the change is only for the training purpose.\n",
        "\n",
        "A common way to deal with imbalanced datasets is **resampling.** Here are two possible resampling techniques:\n",
        "\n",
        "-Use all samples from our more frequently occuring event and then randomly sample our less frequently occuring event (with replacement) until we have a balanced dataset.\n",
        "\n",
        "-Use all samples from our less frequently occuring event and then randomly sample our more frequently occuring event (with or without replacement) until we have a balanced dataset.\n",
        "\n"
      ]
    },
    {
      "cell_type": "markdown",
      "id": "aaee220c",
      "metadata": {
        "id": "aaee220c"
      },
      "source": [
        "### BIAS, MSE, SE"
      ]
    },
    {
      "cell_type": "markdown",
      "id": "f65e2010",
      "metadata": {
        "id": "f65e2010"
      },
      "source": [
        "**Bias** is the difference between the calculated value of a parameter and the true value of the population parameter being estimated.\n",
        "  We can say that it is a measure of how far the sample mean deviates from the population mean. The sample mean is also called Expected value.\n",
        "\n",
        "  For example, if we decide to survey homeowners on the value of their houses and only the wealthiest homeowners respond, then our home value estimate will be **biased** since it will be larger thant the true value for our population.\n",
        "\n",
        "Let's see how would we calculate the population mean, expected value and bias using Python:"
      ]
    },
    {
      "cell_type": "code",
      "execution_count": null,
      "id": "e52d835f",
      "metadata": {
        "id": "e52d835f"
      },
      "outputs": [],
      "source": [
        "# Take sample\n",
        "df_sample = df.sample(100)\n",
        "\n",
        "# Calculate Expected Value (EV), population mean and bias\n",
        "ev = df_sample.mean()[0]\n",
        "pop_mean = df.mean()[0]\n",
        "bias = ev - pop_mean\n",
        "\n",
        "print('Sample mean (Expected Value): ', ev)\n",
        "print('Population mean: ', pop_mean)\n",
        "print('Bias: ', bias)"
      ]
    },
    {
      "cell_type": "markdown",
      "id": "c0b244c9",
      "metadata": {
        "id": "c0b244c9"
      },
      "source": [
        "**Mean Squared Error (MSE)** is a formula to measure how much estimators deviate from the true distribution. This can be very useful evaluating regression models.\n",
        "\n",
        "**Standard Error (SE)** is a formula to measure how spread the distribution is from the sample mean."
      ]
    },
    {
      "cell_type": "code",
      "execution_count": null,
      "id": "381f5ba0",
      "metadata": {
        "id": "381f5ba0"
      },
      "outputs": [],
      "source": [
        "from math import sqrt\n",
        "from scipy.stats import sem\n",
        "\n",
        "Y = 100 # True Value\n",
        "YH = 85 # Predicted Value\n",
        "\n",
        "# MSE  \n",
        "def MSE(Y, YH):\n",
        "    return np.square(YH - Y).mean()\n",
        "\n",
        "# RMSE \n",
        "def RMSE(Y, YH):\n",
        "    return sqrt(np.square(YH - Y).mean())\n",
        "\n",
        "\n",
        "print('MSE: ', MSE(Y, YH))\n",
        "print('RMSE: ', RMSE(Y, YH))\n",
        "\n",
        "#SE\n",
        "\n",
        "norm_sample = normal_dist.sample(100)\n",
        "\n",
        "print('Standard Error of normal sample: ', sem(norm_sample))"
      ]
    },
    {
      "cell_type": "markdown",
      "id": "ae0c761a",
      "metadata": {
        "id": "ae0c761a"
      },
      "source": [
        "### Introduction to confidence levels and confidence intervals"
      ]
    },
    {
      "cell_type": "markdown",
      "id": "7cfa6e6f",
      "metadata": {
        "id": "7cfa6e6f"
      },
      "source": [
        "To deal with uncertainty, we can use an interval estimate. It provides a range of values that best describe the population. \n",
        "To develop an interval estimate we first need to learn about confidence levels."
      ]
    },
    {
      "cell_type": "markdown",
      "id": "8fd3aaef",
      "metadata": {
        "id": "8fd3aaef"
      },
      "source": [
        "**Confidence Levels**"
      ]
    },
    {
      "cell_type": "markdown",
      "id": "09f77a41",
      "metadata": {
        "id": "09f77a41"
      },
      "source": [
        "\n",
        "\n",
        "A confidence level is the probability that the interval estimate will include the population parameter (such as the mean).\n",
        "\n",
        "A parameter is a numerical description of a characteristic of the population."
      ]
    },
    {
      "cell_type": "markdown",
      "id": "ed0bc722",
      "metadata": {
        "id": "ed0bc722"
      },
      "source": [
        "![hypothesis_testing_standard_normal_distribution.jpg](https://github.com/4GeeksAcademy/machine-learning-content/blob/master/assets/hypothesis_testing_standard_normal_distribution.jpg?raw=1)"
      ]
    },
    {
      "cell_type": "markdown",
      "id": "e2ad0cfc",
      "metadata": {
        "id": "e2ad0cfc"
      },
      "source": [
        "Sample means will follow the normal probability distribution for large sample sizes $(n>=30)$\n",
        "\n",
        "To build an interval estimate with a 90% confidence level\n",
        "\n",
        "Confidence level corresponds to a z-score from the standard normal table equal to $1.645$"
      ]
    },
    {
      "cell_type": "markdown",
      "id": "f6c1c24b",
      "metadata": {
        "id": "f6c1c24b"
      },
      "source": [
        "![hypothesis_testing_confidence_interval.png](https://github.com/4GeeksAcademy/machine-learning-content/blob/master/assets/hypothesis_testing_confidence_interval.jpg?raw=1)"
      ]
    },
    {
      "cell_type": "markdown",
      "id": "20fcd562",
      "metadata": {
        "id": "20fcd562"
      },
      "source": [
        "**Confidence Interval**\n"
      ]
    },
    {
      "cell_type": "markdown",
      "id": "177ca56a",
      "metadata": {
        "id": "177ca56a"
      },
      "source": [
        "A confidence interval is a range of values used to estimate a population parameter and is associated with a specific confidence level.\n",
        "The confidence interval needs to be described in the context of several samples.\n",
        "\n",
        "Lets build a confidence interval around a sample mean using these equations:\n",
        "    \n",
        "$x̄ ± z c$\n",
        "    \n",
        "Where:\n",
        "    \n",
        "$x̄$ = the sample mean\n",
        "\n",
        "$z$ = the z-score, which is the number of standard deviations based on the confidence level\n",
        "\n",
        "$c$ = the standard error of the mean\n",
        "\n",
        "Select 10 samples and construct 90% confidence intervals around each of the sample means.\n",
        "Theorethically, 9 of the 10 intervals will contain the true population mean, which remains unknown."
      ]
    },
    {
      "cell_type": "markdown",
      "id": "f3c5debf",
      "metadata": {
        "id": "f3c5debf"
      },
      "source": [
        "![hypothesis_testing_confidence_interval_example.jpg](https://github.com/4GeeksAcademy/machine-learning-content/blob/master/assets/hypothesis_testing_confidence_interval_example.jpg?raw=1)"
      ]
    },
    {
      "cell_type": "markdown",
      "id": "af9f7ac6",
      "metadata": {
        "id": "af9f7ac6"
      },
      "source": [
        "Do not misinterpret the definition of a confidence interval:\n",
        "\n",
        "False: 'There is a 90% probability that the true population mean is within the interval'.\n",
        "\n",
        "True: 'There is a 90% of probability that any given confidence interval from a random sample will contain the true population mean.'\n",
        "\n",
        "\n",
        "To summarize, when we create a confidence interval, it's important to be able to interpret the meaning of the confidence level we used and the interval that was obtained. \n",
        "The confidence level refers to the long-term success rate of the method, which means, how often this type of interval will capture the parameter of interest.\n",
        "A specific confidence interval gives a range of plausible values for the parameter of interest."
      ]
    },
    {
      "cell_type": "markdown",
      "id": "59aa42b2",
      "metadata": {
        "id": "59aa42b2"
      },
      "source": [
        "### Steps of formulating a hypothesis\n",
        "\n",
        "Hypothesis testing is a statistical method that is used in making statistical decisions using experimental data. Hypothesis Testing is basically an assumption that we make about the population parameter.\n",
        "\n",
        "For example, when we say that boys are taller than girls. This assumption needs some statistic way to prove it, we need a mathematical conclusion what ever we are assuming is true.\n",
        "\n",
        "Hypotheses are claims, and we can use statistics to prove or disprove them. Hypothesis testing structures the problems so that we can use statistical evidence to test these claims and check if the claim is valid or not.\n",
        "\n",
        "\n",
        "**Steps:**\n",
        "\n",
        "1. Defining hypothesis\n",
        "\n",
        "2. Assumption check\n",
        "\n",
        "3. Set the significance levels\n",
        "\n",
        "4. Selecting the proper test\n",
        "\n",
        "5. Carrying out the hypothesis testing and calculate the test statistics and corres­­po­nding P-va­lue\n",
        "\n",
        "6. Compare P-value with signif­icance levels and then decide to accept or reject null hypothesis"
      ]
    },
    {
      "cell_type": "markdown",
      "id": "61ebd1cb",
      "metadata": {
        "id": "61ebd1cb"
      },
      "source": [
        "**1. Defining our null and alternative hypothesis**\n",
        "\n",
        "First of all, we need to understand which scientific question we are looking for an answer to, and it should be formulated in the form of the Null Hypothesis ($H₀$) and the Alternative Hypothesis ($H₁$ or $Hₐ$). \n",
        "\n",
        "What is the null hypothesis? ($H₀$)\n",
        "\n",
        "The null hypothesis is a statement about a population parameter, the statement assumed to be true before we collect the data. We test the likelihood of this statement being true in order to decide whether to accept or reject our alternative hypothesis. It can be thought of as the 'control' of the experiment and it usually has some equal sign ($>=, <=, =$)\n",
        "\n",
        "What is the alternatuve hypothesis? ($Hₐ$)\n",
        "\n",
        "A statement that directly contradicts the null hypothesis. This is what we want to prove to be true with our collected data. Can be thought of as the 'experiment'. It usually has the opposite sign of the null hypothesis.\n",
        "\n",
        "\n",
        "**Fact:** Sample statistics is not what should be involved in our hypothesis. Our hypothesis are claims about the population that we want to study. Please remember that $H₀$ and $Hₐ$ must be mutually exclusive, and $Hₐ$ shouldn’t contain equality."
      ]
    },
    {
      "cell_type": "markdown",
      "id": "27951576",
      "metadata": {
        "id": "27951576"
      },
      "source": [
        "**2. Assumption Check**\n",
        "\n",
        "To decide whether to use the parametric or nonparametric version of the test, we should verify if:\n",
        "\n",
        "-Observations in each sample are independent and identically distributed (IID).\n",
        "\n",
        "-Observations in each sample are normally distributed.\n",
        "\n",
        "-Observations in each sample have the same variance.\n",
        "\n",
        "The next thing we do is set up a threshold known as the significance level."
      ]
    },
    {
      "cell_type": "markdown",
      "id": "a460b999",
      "metadata": {
        "id": "a460b999"
      },
      "source": [
        "**3. Level of Significance**\n",
        "\n"
      ]
    },
    {
      "cell_type": "markdown",
      "id": "e0052181",
      "metadata": {
        "id": "e0052181"
      },
      "source": [
        "Refers to the degree of significance in which we accept or reject the null-hypothesis. 100% accuracy is not possible for accepting or rejecting a hypothesis, so we therefore select a level of significance that is usually 5%.\n",
        "\n",
        "The level of significance is defined as the fixed probability of wrong elimination of null hypothesis when in fact, it is true. Level of significance $α$ (alpha) is the probability of making a type 1 error (false positive). The probability for the confidence interval is a complement to the significance level. \n",
        "A $(1-α)$ confidence interval has a significance level equal to $α$.\n",
        "\n",
        "Having a 95% probability that any given confidence interval will contain the true population mean, there is a 5% chance that it wont.\n",
        "This 5% is known as the level of significance."
      ]
    },
    {
      "cell_type": "markdown",
      "id": "0e887db8",
      "metadata": {
        "id": "0e887db8"
      },
      "source": [
        "**4. Selecting the proper test**"
      ]
    },
    {
      "cell_type": "markdown",
      "id": "8e582575",
      "metadata": {
        "id": "8e582575"
      },
      "source": [
        "A variety of statistical procedures exist. The appropriate one depends on the research question(s) we are asking and the type of data we collected. We need to analyze how many groups are being compared and whether the data are paired or not. To determine whether the data is matched, it is necessary to consider whether the data was collected from the same individuals.\n",
        "\n",
        "**T-Test** : for 1 independent variable with 2 categories, and the target variable.\n",
        "\n",
        "When we wish to know whether the means of two groups in a students classroom (male and female in a gender variable) differ, a t test is appropriate. In order to calculate a t test, we need to know the mean, standard deviation, and number of individuals in each of the two groups. An example of a t test research question is “Is there a significant difference between the writing scores of boys and girls in the classroom?” A sample answer might be: “Boys $(M=5.67, SD=.45)$ and girls $(M=5.76, SD=.50)$ score similarly in writing, $t(35)=.54$, $p>.05$.” [Note: The $(35)$ is the degrees of freedom for a t test. It is the number of individuals minus the number of groups (always 2 groups with a t-test). In this example, there were 37 individuals and 2 groups so the degrees of freedom is $37-2=35$.] Remember, a t test can only compare the means of two groups of an independent variable (for example gender) on a single dependent variable (for example writing score).\n",
        "\n",
        "A t-distribution is flatter than a normal distribution. As the degrees of freedom increase, the shape of the t-distribution becomes similar to a normal distribution. With more than 30 degrees of freedom (sample size of 30 or more) the two distributions are practically identical.\n",
        "\n",
        "Types of T-test:\n",
        "\n",
        "-Two sample t-test: If two indepe­ndent groups have different mean\n",
        "\n",
        "-Paired T-test: if one groups have different means at different times\n",
        "\n",
        "-One Sample T-test: mean of a single group against a known mean\n",
        "\n",
        "\n",
        "Assump­tions about data\n",
        "\n",
        "1. indepe­ndent\n",
        "\n",
        "2. normally distri­buted\n",
        "\n",
        "3. have a similar amount of variance within each group being compared\n",
        "\n",
        "\n",
        "One sample t-test: The One Sample t Test determines whether the sample mean is statistically different from a known or hypothesised population mean. The One Sample t Test is a parametric test.\n",
        "\n",
        "Let's imagine we have a small dataset with 10 ages and we are checking whether the average age is 30 or not. We could solve it this way:\n",
        "\n",
        "\n",
        "```py\n",
        "    from scipy.stats import ttest_1samp\n",
        "    import numpy as np\n",
        "    ages = np.genfromtxt(“ages.csv”)\n",
        "    print(ages)\n",
        "    ages_mean = np.mean(ages)\n",
        "    print(ages_mean)\n",
        "    tset, pval = ttest_1samp(ages, 30)\n",
        "    print(“p-values”,pval)\n",
        "    if pval < 0.05:    # alpha value is 0.05 or 5%\n",
        "      print(\" we are rejecting null hypothesis\")\n",
        "    else:\n",
        "      print(\"we are accepting null hypothesis\")\n",
        "```\n",
        "\n",
        "\n",
        "Two sampled T-test :-The Independent Samples t Test or 2-sample t-test compares the means of two independent groups in order to determine whether there is statistical evidence that the associated population means are significantly different. The Independent Samples t Test is a parametric test. This test is also known as: Independent t Test.\n",
        "\n",
        "For example if we would want to see if there is any association between week1 and week2 we could do it with the following code:\n",
        "\n",
        "\n",
        "\n",
        "```py\n",
        "    from scipy.stats import ttest_ind\n",
        "    import numpy as np\n",
        "\n",
        "    week1 = np.genfromtxt(\"week1.csv\",  delimiter=\",\")\n",
        "    week2 = np.genfromtxt(\"week2.csv\",  delimiter=\",\")\n",
        "    print(week1)\n",
        "    print(\"week2 data :-\\n\")\n",
        "    print(week2)\n",
        "    week1_mean = np.mean(week1)\n",
        "    week2_mean = np.mean(week2)\n",
        "    print(\"week1 mean value:\",week1_mean)\n",
        "    print(\"week2 mean value:\",week2_mean)\n",
        "    week1_std = np.std(week1)\n",
        "    week2_std = np.std(week2)\n",
        "    print(\"week1 std value:\",week1_std)\n",
        "    print(\"week2 std value:\",week2_std)\n",
        "    ttest,pval = ttest_ind(week1,week2)\n",
        "    print(\"p-value\",pval)\n",
        "    if pval <0.05:\n",
        "      print(\"we reject null hypothesis\")\n",
        "    else:\n",
        "      print(\"we accept null hypothesis\")\n",
        "  ```\n",
        "\n",
        "\n",
        "Paired sampled t-test :- The paired sample t-test is also called dependent sample t-test. It’s an uni variate test that tests for a significant difference between 2 related variables. An example of this is if you where to collect the blood pressure for an individual before and after some treatment, condition, or time point.\n",
        "\n",
        "$H0$ :- means difference between two sample is 0\n",
        "\n",
        "$H1$:- mean difference between two sample is not 0\n",
        "\n",
        "Let's try executing the following code example:"
      ]
    },
    {
      "cell_type": "code",
      "execution_count": null,
      "id": "efc1418f",
      "metadata": {
        "id": "efc1418f",
        "outputId": "352e5e5c-f856-4367-c1c5-57562b19ddec"
      },
      "outputs": [
        {
          "name": "stdout",
          "output_type": "stream",
          "text": [
            "0.0011297914644840823\n",
            "reject null hypothesis\n"
          ]
        }
      ],
      "source": [
        "import pandas as pd\n",
        "from scipy import stats\n",
        "\n",
        "df = pd.read_csv(\"../assets/blood_pressure.csv\")\n",
        "\n",
        "df[['bp_before','bp_after']].describe()\n",
        "ttest,pval = stats.ttest_rel(df['bp_before'], df['bp_after'])\n",
        "print(pval)\n",
        "\n",
        "if pval<0.05:\n",
        "    print(\"reject null hypothesis\")\n",
        "else:\n",
        "    print(\"accept null hypothesis\")"
      ]
    },
    {
      "cell_type": "markdown",
      "id": "ab4c26d1",
      "metadata": {
        "id": "ab4c26d1"
      },
      "source": [
        "\n",
        "**F-TEST (ANOVA Analysis)**\n",
        "\n",
        "The t-test works well when dealing with two groups, but sometimes we want to compare more than two groups at the same time. For example, if we wanted to test whether voter age differs based on some categorical variable like race, we have to compare the means of each level or group the variable. We could carry out a separate t-test for each pair of groups, but when you conduct many tests you increase the chances of false positives. The analysis of variance or ANOVA is a statistical inference test that lets you compare multiple groups at the same time. Unlike the t-distributions, the F-distribution does not have any negative values because between and within-group variability are always positive due to squaring each deviation.\n",
        "\n",
        "One-way Anova : One independent variable with more than 2 categories, and the target variable.\n",
        "\n",
        "If we have one independent variable (with three or more categories) and one dependent variable, we do a one-way ANOVA. A sample research question is, “Do Doctors, teachers, and engineers differ on their opinion about a tax increase?” A sample answer is, “Teachers $(M=3.56, SD=.56)$ are less likely to favor a tax increase than doctors $(M=5.67, SD=.60)$ or engineers $(M=5.34, SD=.45)$, $F(2,120)=5.67$, $p<.05$.” [Note: The $(2,207)$ are the degrees of freedom for an ANOVA. The first number is the number of groups minus 1. Because we had three professions it is 2, because 3-1=2. The second number is the total number of individuals minus the number of groups. Because we had 210 subject and 3 groups, it is 207 (210 - 3)]. \n",
        "\n",
        "Code example: there are 3 different category of plant and their weight and need to check whether all 3 group are similar or not."
      ]
    },
    {
      "cell_type": "code",
      "execution_count": null,
      "id": "b23a5da4",
      "metadata": {
        "id": "b23a5da4",
        "outputId": "b18a8e9d-b58e-4c72-b6ae-33dcbb908267"
      },
      "outputs": [
        {
          "name": "stdout",
          "output_type": "stream",
          "text": [
            "p-value for significance is:  0.0159099583256229\n",
            "reject null hypothesis\n"
          ]
        }
      ],
      "source": [
        "df_anova = pd.read_csv('../assets/PlantGrowth.csv')\n",
        "df_anova = df_anova[['weight','group']]\n",
        "grps = pd.unique(df_anova.group.values)\n",
        "d_data = {grp:df_anova['weight'][df_anova.group == grp] for grp in grps}\n",
        " \n",
        "F, p = stats.f_oneway(d_data['ctrl'], d_data['trt1'], d_data['trt2'])\n",
        "print(\"p-value for significance is: \", p)\n",
        "if p<0.05:\n",
        "    print(\"reject null hypothesis\")\n",
        "else:\n",
        "    print(\"accept null hypothesis\")"
      ]
    },
    {
      "cell_type": "markdown",
      "id": "28823ea4",
      "metadata": {
        "id": "28823ea4"
      },
      "source": [
        "Two-way Anova : More than 1 independent variable with two or more categories each, and the target variable.\n",
        "\n",
        "A two-way ANOVA has three research questions, one for each of the two independent variables and one for the interaction of the two independent variables. 2-way F-test does not tell which variable is dominant. if we need to check individual significance then Post-hoc testing need to be performed.\n",
        "\n",
        "Sample Research Questions for a Two-Way ANOVA:\n",
        "Do teachers, doctors and engineers differ on their opinion about a tax increase?\n",
        "Do males and females differ on their opinion about a tax increase?\n",
        "Is there an interaction between gender and profession regarding opinions about a tax increase?\n",
        "\n",
        "A two-way ANOVA has three null hypotheses, three alternative hypotheses and three answers to the research question.\n",
        "\n",
        "Assump­tions about data:\n",
        "\n",
        "1. each data $y$ is normally distri­buted\n",
        "\n",
        "2. the variance of each treatment group is same\n",
        "\n",
        "3. all observ­ations are indepe­ndent\n",
        "\n",
        "Code example: Let’s take a look at the Grand mean crop yield (the mean crop yield not by any sub-group), as well the mean crop yield by each factor, as well as by the factors grouped together."
      ]
    },
    {
      "cell_type": "code",
      "execution_count": null,
      "id": "d18737b6",
      "metadata": {
        "id": "d18737b6",
        "outputId": "40793772-c1de-4144-b4bb-c8af232ac441"
      },
      "outputs": [
        {
          "name": "stdout",
          "output_type": "stream",
          "text": [
            "Overall model F( 3, 16) =  4.112, p =  0.0243\n"
          ]
        },
        {
          "data": {
            "text/html": [
              "<div>\n",
              "<style scoped>\n",
              "    .dataframe tbody tr th:only-of-type {\n",
              "        vertical-align: middle;\n",
              "    }\n",
              "\n",
              "    .dataframe tbody tr th {\n",
              "        vertical-align: top;\n",
              "    }\n",
              "\n",
              "    .dataframe thead th {\n",
              "        text-align: right;\n",
              "    }\n",
              "</style>\n",
              "<table border=\"1\" class=\"dataframe\">\n",
              "  <thead>\n",
              "    <tr style=\"text-align: right;\">\n",
              "      <th></th>\n",
              "      <th>sum_sq</th>\n",
              "      <th>df</th>\n",
              "      <th>F</th>\n",
              "      <th>PR(&gt;F)</th>\n",
              "    </tr>\n",
              "  </thead>\n",
              "  <tbody>\n",
              "    <tr>\n",
              "      <th>C(Fert)</th>\n",
              "      <td>69.192</td>\n",
              "      <td>1.0</td>\n",
              "      <td>5.766000</td>\n",
              "      <td>0.028847</td>\n",
              "    </tr>\n",
              "    <tr>\n",
              "      <th>C(Water)</th>\n",
              "      <td>63.368</td>\n",
              "      <td>1.0</td>\n",
              "      <td>5.280667</td>\n",
              "      <td>0.035386</td>\n",
              "    </tr>\n",
              "    <tr>\n",
              "      <th>C(Fert):C(Water)</th>\n",
              "      <td>15.488</td>\n",
              "      <td>1.0</td>\n",
              "      <td>1.290667</td>\n",
              "      <td>0.272656</td>\n",
              "    </tr>\n",
              "    <tr>\n",
              "      <th>Residual</th>\n",
              "      <td>192.000</td>\n",
              "      <td>16.0</td>\n",
              "      <td>NaN</td>\n",
              "      <td>NaN</td>\n",
              "    </tr>\n",
              "  </tbody>\n",
              "</table>\n",
              "</div>"
            ],
            "text/plain": [
              "                   sum_sq    df         F    PR(>F)\n",
              "C(Fert)            69.192   1.0  5.766000  0.028847\n",
              "C(Water)           63.368   1.0  5.280667  0.035386\n",
              "C(Fert):C(Water)   15.488   1.0  1.290667  0.272656\n",
              "Residual          192.000  16.0       NaN       NaN"
            ]
          },
          "execution_count": 2,
          "metadata": {},
          "output_type": "execute_result"
        }
      ],
      "source": [
        "import pandas as pd\n",
        "import statsmodels.api as sm\n",
        "from statsmodels.formula.api import ols\n",
        "\n",
        "df_anova2 = pd.read_csv(\"https://raw.githubusercontent.com/Opensourcefordatascience/Data-sets/master/crop_yield.csv\")\n",
        "model = ols('Yield ~ C(Fert)*C(Water)', df_anova2).fit()\n",
        "print(f\"Overall model F({model.df_model: .0f},{model.df_resid: .0f}) = {model.fvalue: .3f}, p = {model.f_pvalue: .4f}\")\n",
        "\n",
        "res = sm.stats.anova_lm(model, typ= 2)\n",
        "res"
      ]
    },
    {
      "cell_type": "markdown",
      "id": "892e6b61",
      "metadata": {
        "id": "892e6b61"
      },
      "source": [
        "**Chi-square**\n",
        "\n",
        "We might count the incidents of something and compare what our actual data showed with what we would expect. Suppose we surveyed 45 people regarding whether they preferred rock, reggae, or jazz as their favorite music type. If there were no preference, we would expect that 15 would select rock, 15 would select reggae, and 15 would select jazz. Then our sample indicated that 30 like rock, 5 like reggae and 10 like jazz. We use a chi-square to compare what we observe (actual) with what we expect. A sample research question would be: “Is there a preference for the rock, reggae or jazz music?” A sample answer is “There was not equal preference for rock, reggae and jazz. \n",
        "\n",
        "Just as t-tests tell us how confident we can be about saying that there are differences between the means of two groups, the chi-square tells us how confident we can be about saying that our observed results differ from expected results.\n",
        "\n",
        "Types of Chi-Square test:\n",
        "\n",
        "-Test for independence: tests for the indepe­ndence of two catego­rical variables.\n",
        "\n",
        "-Homoge­neity of Variance: test if more than two subgroups of a population share the same multiv­ariate distri­bution.\n",
        "\n",
        "-Goodness of fit: whether a multin­omial model for the population distri­bution (P1,....Pm) fits our data.\n",
        "\n",
        "Test for indepe­ndence and homoge­neity of variance share the same test statistics and degree of freedoms by different design of experiment.\n",
        "\n",
        "Assump­tions:\n",
        "\n",
        "1. one or two catego­rical variables\n",
        "\n",
        "2. indepe­ndent observ­ations\n",
        "\n",
        "3. outcomes mutually exclusive\n",
        "\n",
        "4. large $n$ and no more than 20% of expected counts $< 5$\n",
        "\n",
        "\n",
        "Code example: In an election survey, voters might be classified by gender (male or female) and voting preference (Democrat, Republican, or Independent). We could use a chi-square test for independence to determine whether gender is related to voting preference"
      ]
    },
    {
      "cell_type": "code",
      "execution_count": null,
      "id": "9f328d7e",
      "metadata": {
        "id": "9f328d7e",
        "outputId": "e619bd16-0acd-4c8b-f4d5-90badbcc29fb"
      },
      "outputs": [
        {
          "name": "stdout",
          "output_type": "stream",
          "text": [
            "contingency_table :-\n",
            " Like Shopping?  No  Yes\n",
            "Gender                 \n",
            "Female           2    3\n",
            "Male             2    2\n",
            "Observed Values :-\n",
            " [[2 3]\n",
            " [2 2]]\n",
            "Expected Values :-\n",
            " [[2.22222222 2.77777778]\n",
            " [1.77777778 2.22222222]]\n",
            "Degree of Freedom:- 1\n",
            "chi-square statistic:- 0.09000000000000008\n",
            "critical_value: 3.841458820694124\n",
            "p-value: 0.7641771556220945\n",
            "Significance level:  0.05\n",
            "Degree of Freedom:  1\n",
            "chi-square statistic: 0.09000000000000008\n",
            "critical_value: 3.841458820694124\n",
            "p-value: 0.7641771556220945\n",
            "Retain H0,There is no relationship between 2 categorical variables\n",
            "Retain H0,There is no relationship between 2 categorical variables\n"
          ]
        }
      ],
      "source": [
        "df_chi = pd.read_csv('../assets/chi-test.csv')\n",
        "contingency_table=pd.crosstab(df_chi[\"Gender\"],df_chi[\"Like Shopping?\"])\n",
        "print('contingency_table :-\\n',contingency_table)\n",
        "\n",
        "#Observed Values\n",
        "Observed_Values = contingency_table.values \n",
        "print(\"Observed Values :-\\n\",Observed_Values)\n",
        "\n",
        "b=stats.chi2_contingency(contingency_table)\n",
        "Expected_Values = b[3]\n",
        "print(\"Expected Values :-\\n\",Expected_Values)\n",
        "\n",
        "no_of_rows=len(contingency_table.iloc[0:2,0])\n",
        "no_of_columns=len(contingency_table.iloc[0,0:2])\n",
        "ddof=(no_of_rows-1)*(no_of_columns-1)\n",
        "print(\"Degree of Freedom:-\",ddof)\n",
        "\n",
        "alpha = 0.05\n",
        "\n",
        "from scipy.stats import chi2\n",
        "\n",
        "chi_square=sum([(o-e)**2./e for o,e in zip(Observed_Values,Expected_Values)])\n",
        "chi_square_statistic=chi_square[0]+chi_square[1]\n",
        "print(\"chi-square statistic:-\",chi_square_statistic)\n",
        "\n",
        "critical_value=chi2.ppf(q=1-alpha,df=ddof)\n",
        "print('critical_value:',critical_value)\n",
        "\n",
        "#p-value\n",
        "p_value=1-chi2.cdf(x=chi_square_statistic,df=ddof)\n",
        "\n",
        "print('p-value:',p_value)\n",
        "print('Significance level: ',alpha)\n",
        "print('Degree of Freedom: ',ddof)\n",
        "print('chi-square statistic:',chi_square_statistic)\n",
        "print('critical_value:',critical_value)\n",
        "print('p-value:',p_value)\n",
        "\n",
        "if chi_square_statistic>=critical_value:\n",
        "    print(\"Reject H0,There is a relationship between 2 categorical variables\")\n",
        "else:\n",
        "    print(\"Retain H0,There is no relationship between 2 categorical variables\")\n",
        "    \n",
        "if p_value<=alpha:\n",
        "    print(\"Reject H0,There is a relationship between 2 categorical variables\")\n",
        "else:\n",
        "    print(\"Retain H0,There is no relationship between 2 categorical variables\")"
      ]
    },
    {
      "cell_type": "markdown",
      "id": "2a730077",
      "metadata": {
        "id": "2a730077"
      },
      "source": [
        "**5. What is the p-value?**\n",
        "\n",
        "When testing an Hypothesis, the p-value is the likelihood that we would observe results at least as extreme as our result due purely to random chance if the null hypothesis were true. We use p-values to make conclusions in significance testing. More specifically, we compare the p-value to a significance level to make conclusions about our hypotheses.\n",
        "\n",
        "If the p-value is lower than the significance level we chose, then we reject the null hypothesis, in favor of the alternative hypothesis.\n",
        "\n",
        "If the p-value is greater than or equal to the significance level, then we fail to reject the null hypothesis but this doesn't mean we accept it.\n",
        "\n",
        "\n",
        "What value is most often used  to determine statistical significance?\n",
        "\n",
        "A value of alpha = 0.05 is most often used as the threshold for statistical significance.\n",
        "\n",
        "In other words, a low p-value means that we have compelling evidence to reject the null hypothesis. If the p-value is lower than 5% we often reject $Ho$ and accept $Ha$ is true. We say that $p < 0.05$ is statistically significant, because there is less than 5% chance that we are wrong in rejecting the null hypothesis.\n",
        "\n",
        "One way to calculate the p-value is through a T-test. We can use Scipy's ttest_ind function to calculate the t-test for the means of two independent samples of scores.\n",
        "\n",
        "Let's see an example:\n",
        "\n",
        "Maria designed an experiment where some individuals tasted lemonades from four different cups and attempted to identify which cup contained homemade lemonade. Each subject was given three cups that contained bittled lemonade and one cup that contained homemade lemonade (the order was randomized). She wanted to test if the subjects could do better than simply guessing when identifying the homemade lemonade.\n",
        "\n",
        "Her null hypothesis $Ho$ : $p = 0.30$\n",
        "\n",
        "Her alternative hypothesis $Ha$ : $p > 0.30$\n",
        "\n",
        "*p is the likelihood of individuals to identify the homemade lemonade*\n",
        "\n",
        "The experiment showed that 18 of the 50 individuals correctly identified the homemade lemonade. Maria calculated that the statistic $p = 18/50 = 0.3$ had an associated p-value of approximately $0.061$.\n",
        "\n",
        "Using a significance level of $α = 0.05$ what conclusions can we get?\n",
        "\n",
        "* Since the p-value is greater than the significance level, we should reject the null hypothesis Ho.\n",
        "* We don't have enough evidence to say that these individuals can do better than guessing when identifying the homemade lemonade.\n",
        "The null hypothesis $Ho$: $p=0.25$ says their likelihood is no better than guessing, and we failed to reject the null hypothesis."
      ]
    },
    {
      "cell_type": "markdown",
      "id": "1b65c464",
      "metadata": {
        "id": "1b65c464"
      },
      "source": [
        "**6. Decision and Conclusion**\n",
        "\n",
        "After performing hypothesis testing, we obtain a related p-value that shows the significance of the test.\n",
        "\n",
        "If the p-value is smaller than the significance level, there is enough evidence to prove H₀ is not valid; you can reject H₀. Otherwise, you fail to reject H₀."
      ]
    },
    {
      "cell_type": "markdown",
      "id": "c5518e41",
      "metadata": {
        "id": "c5518e41"
      },
      "source": [
        "### Potential Errors in testing\n",
        "\n",
        "What is Type I Error?\n",
        "\n",
        "Type I error is the rejection of a true null hypothesis, or a 'false positive' classification.\n",
        "\n",
        "What is Type II error?\n",
        "\n",
        "Type II error is the non-rejection of a false null hypothesis, or a false negative classification.\n",
        "\n",
        "We can make four different decisions with hypothesis testing:\n",
        "\n",
        "Reject $Ho$ and $Ho$ is not true (no error)\n",
        "\n",
        "Do not reject $Ho$ and $Ho$ is true (no error)\n",
        "\n",
        "Reject $Ho$ and $Ho$ is true (Type 1 Error)\n",
        "\n",
        "Do not reject $Ho$ and $Ho$ is not true (Type 2 error)\n",
        "\n",
        "Type 1 error is also called Alpha error. Type 2 error is also called Beta error."
      ]
    },
    {
      "cell_type": "markdown",
      "id": "c86ed91f",
      "metadata": {
        "id": "c86ed91f"
      },
      "source": [
        "## Implications in Machine Learning"
      ]
    },
    {
      "cell_type": "markdown",
      "id": "fedcc014",
      "metadata": {
        "id": "fedcc014"
      },
      "source": [
        "The central limit theorem has important implications in applied machine learning. The theorem does inform the solution to linear algorithms such as linear regression, but not exotic methods like artificial neural networks that are solved using numerical optimization methods.\n",
        "\n",
        "**Covariance **\n",
        "\n",
        "Covariance is a measure of how much two random variables vary together. If two variables are independent, their covariance is 0. However, a covariance of 0 does not imply that the variables are independent."
      ]
    },
    {
      "cell_type": "code",
      "execution_count": null,
      "id": "3791f151",
      "metadata": {
        "id": "3791f151"
      },
      "outputs": [],
      "source": [
        "#Code to get the covariance between two variables.\n",
        "\n",
        "df[['Feature1', 'Feature2']].cov()\n",
        "\n",
        "# Correlation between two normal distributions using Pearson's correlation\n",
        "\n",
        "df[['Feature1', 'Feature2']].corr(method='pearson')"
      ]
    },
    {
      "cell_type": "markdown",
      "id": "047e948e",
      "metadata": {
        "id": "047e948e"
      },
      "source": [
        "**Significance Tests**\n"
      ]
    },
    {
      "cell_type": "markdown",
      "id": "9c0bb422",
      "metadata": {
        "id": "9c0bb422"
      },
      "source": [
        "-In order to make inferences about the skill of a model compared to the skill of another model, we must use tools such as statistical significance tests.\n",
        "\n",
        "-These tools estimate the likelihood that the two samples of model skill scores were drawn from the same or a different unknown underlying distribution of model skill scores.\n",
        "\n",
        "-If it looks like the samples were drawn from the same population, then no difference between the models skill is assumed, and any actual differences are due to statistical noise.\n",
        "\n",
        "-The ability to make inference claims like this is due to the central limit theorem and our knowledge of the Gaussian distribution and how likely the two sample means are to be  a part of the same Gaussian distribution of sample means."
      ]
    },
    {
      "cell_type": "markdown",
      "id": "d5df91d1",
      "metadata": {
        "id": "d5df91d1"
      },
      "source": [
        "**Confidence intervals**\n",
        "\n",
        "-Once we have trained a final model, we may wish to make  an inference about how skillful the model is expected to be in practice.\n",
        "\n",
        "-The presentation of this uncertainty is called a confidence interval.\n",
        "\n",
        "-We can develop multiple independent (or close to independent) evaluations of a model accuracy to result in a population of candidate skill estimates.\n",
        "\n",
        "-The mean of this skill estimates will be an estimate (with error) of the true underlying estimate of the model skill on the problem.\n",
        "\n",
        "-With knowledge that the sample mean will be a part of a Gaussian distribution from the central limit theorem, we can use knowledge of the Gaussian distribution to estimate the likelihood of the sample mean based on the sample size and calculate an interval of desired confidence around the skill of the model."
      ]
    },
    {
      "cell_type": "markdown",
      "id": "f7b2e963",
      "metadata": {
        "id": "f7b2e963"
      },
      "source": [
        "Source:\n",
        "\n",
        "https://www.kaggle.com/code/carlolepelaars/statistics-tutorial/notebook\n",
        "    \n",
        "https://byjus.com/maths/level-of-significance/\n",
        "\n",
        "https://byjus.com/maths/sampling-methods/\n",
        "\n",
        "https://researchbasics.education.uconn.edu/anova_regression_and_chi-square/#\n",
        "\n",
        "https://cheatography.com/mmmmy/cheat-sheets/hypothesis-testing-cheatsheet/\n",
        "\n",
        "https://towardsdatascience.com/hypothesis-testing-in-machine-learning-using-python-a0dc89e169ce\n",
        "\n",
        "https://github.com/yug95/MachineLearning\n"
      ]
    }
  ],
  "metadata": {
    "colab": {
      "include_colab_link": true,
      "name": "hypothesis-testing.ipynb",
      "provenance": []
    },
    "kernelspec": {
      "display_name": "Python 3.8.13 64-bit ('3.8.13')",
      "language": "python",
      "name": "python3"
    },
    "language_info": {
      "codemirror_mode": {
        "name": "ipython",
        "version": 3
      },
      "file_extension": ".py",
      "mimetype": "text/x-python",
      "name": "python",
      "nbconvert_exporter": "python",
      "pygments_lexer": "ipython3",
      "version": "3.8.13"
    },
    "vscode": {
      "interpreter": {
        "hash": "110cc1dee26208153f2972f08a2ad52b6a56238dc66d48e87fb757ef2996db56"
      }
    }
  },
  "nbformat": 4,
  "nbformat_minor": 5
}
