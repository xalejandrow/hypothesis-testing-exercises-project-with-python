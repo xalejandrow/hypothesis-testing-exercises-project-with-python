{
  "cells": [
    {
      "cell_type": "markdown",
      "metadata": {
        "id": "view-in-github",
        "colab_type": "text"
      },
      "source": [
        "<a href=\"https://colab.research.google.com/github/xalejandrow/hypothesis-testing-exercises-project-with-python/blob/main/Palmer_Penguins_Analysis_copy.ipynb\" target=\"_parent\"><img src=\"https://colab.research.google.com/assets/colab-badge.svg\" alt=\"Open In Colab\"/></a>"
      ]
    },
    {
      "cell_type": "code",
      "execution_count": null,
      "metadata": {
        "id": "cqdyC0nbKHR2"
      },
      "outputs": [],
      "source": [
        "import pandas as pd\n",
        "import numpy as np\n",
        "import matplotlib.pyplot as plt\n",
        "import plotly.express as px\n",
        "from scipy.stats import f_oneway\n",
        "%matplotlib inline"
      ]
    },
    {
      "cell_type": "code",
      "execution_count": null,
      "metadata": {
        "id": "ujy-WIqoKHR4"
      },
      "outputs": [],
      "source": [
        "# Credits:\n",
        "# Horst AM, Hill AP, Gorman KB (2020). palmerpenguins: Palmer\n",
        "# Archipelago (Antarctica) penguin data. R package version 0.1.0.\n",
        "# https://allisonhorst.github.io/palmerpenguins/\n",
        "url = 'https://gist.githubusercontent.com/slopp/'+ \\\n",
        "      'ce3b90b9168f2f921784de84fa445651/raw/' + \\\n",
        "      '4ecf3041f0ed4913e7c230758733948bc561f434/penguins.csv'\n",
        "df = pd.read_csv(url)"
      ]
    },
    {
      "cell_type": "markdown",
      "metadata": {
        "id": "qbfh362aKHR6"
      },
      "source": [
        "<img src='https://allisonhorst.github.io/palmerpenguins/reference/figures/lter_penguins.png' width=400/>"
      ]
    },
    {
      "cell_type": "markdown",
      "metadata": {
        "id": "nAlGJ7AmKHR8"
      },
      "source": [
        "**Image 1.** Penguins drawing. Artwork by @allison_hors."
      ]
    },
    {
      "cell_type": "code",
      "execution_count": null,
      "metadata": {
        "id": "L9ShKV__KHR9"
      },
      "outputs": [],
      "source": [
        "# check basic info\n"
      ]
    },
    {
      "cell_type": "code",
      "execution_count": null,
      "metadata": {
        "id": "-Gk_UNJgKHR9"
      },
      "outputs": [],
      "source": [
        "# Show 10 observations\n"
      ]
    },
    {
      "cell_type": "markdown",
      "metadata": {
        "id": "mzIJF5LtKHR-"
      },
      "source": [
        "<img src=\"https://allisonhorst.github.io/palmerpenguins/reference/figures/culmen_depth.png\" width=400/>"
      ]
    },
    {
      "cell_type": "markdown",
      "metadata": {
        "id": "7vRFRo5KKHR-"
      },
      "source": [
        "**Image 2.** Penguins dimensions. Artwork by @allison_hors."
      ]
    },
    {
      "cell_type": "code",
      "execution_count": null,
      "metadata": {
        "id": "RwZfbommKHR_"
      },
      "outputs": [],
      "source": [
        "# Drop na values, but explain your rule of decision\n"
      ]
    },
    {
      "cell_type": "code",
      "execution_count": null,
      "metadata": {
        "id": "Wx_c4DjjKHSA"
      },
      "outputs": [],
      "source": [
        "# Get a basic summary of the data\n"
      ]
    },
    {
      "cell_type": "code",
      "execution_count": null,
      "metadata": {
        "id": "8IWDGKwiKHSB"
      },
      "outputs": [],
      "source": [
        "# How many penguins by species and island we have?"
      ]
    },
    {
      "cell_type": "code",
      "execution_count": null,
      "metadata": {
        "id": "x6uPQCViKHSB"
      },
      "outputs": [],
      "source": [
        "# Get the basic metrics (mean, median, std, max, min) per species\n"
      ]
    },
    {
      "cell_type": "code",
      "execution_count": null,
      "metadata": {
        "id": "Cfp4Ap-LKHSB"
      },
      "outputs": [],
      "source": [
        "# Show the histogram per bill lenght\n"
      ]
    },
    {
      "cell_type": "code",
      "execution_count": null,
      "metadata": {
        "id": "WbtViNtuKHSC"
      },
      "outputs": [],
      "source": [
        "# Show the histogram per bill depth"
      ]
    },
    {
      "cell_type": "code",
      "execution_count": null,
      "metadata": {
        "id": "_vveyQ55KHSC"
      },
      "outputs": [],
      "source": [
        "# Show the histogram per flipper length\n"
      ]
    },
    {
      "cell_type": "code",
      "execution_count": null,
      "metadata": {
        "id": "GAgTHhPEKHSF"
      },
      "outputs": [],
      "source": [
        "# Show a boxplot of body mass per species"
      ]
    },
    {
      "cell_type": "code",
      "execution_count": null,
      "metadata": {
        "id": "JdI4l1WAKHSF"
      },
      "outputs": [],
      "source": [
        "# Show a bivariate plot of bill length and bill depth"
      ]
    },
    {
      "cell_type": "code",
      "execution_count": null,
      "metadata": {
        "id": "7Ij89ZXWKHSG"
      },
      "outputs": [],
      "source": [
        "# Is there a way to be more effective?\n"
      ]
    },
    {
      "cell_type": "code",
      "execution_count": null,
      "metadata": {
        "id": "b0rfTm4aKHSG"
      },
      "outputs": [],
      "source": [
        "# What percentage of Gentoo penguins weights less than 5000 (visually)\n"
      ]
    },
    {
      "cell_type": "code",
      "execution_count": null,
      "metadata": {
        "id": "-jNCSDqrKHSG"
      },
      "outputs": [],
      "source": [
        "# Is there a difference between Adelie penguins from each island?\n",
        "# alpha = 0.05\n",
        "# reject_H0 = p_value < alpha "
      ]
    },
    {
      "cell_type": "code",
      "execution_count": null,
      "metadata": {
        "id": "wkbAZl0DKHSG"
      },
      "outputs": [],
      "source": [
        "# Show the boxplot of Adelie penguins by island"
      ]
    }
  ],
  "metadata": {
    "interpreter": {
      "hash": "bc7f7a2d7b5a13e1df9879b693cf35a001b0abe7ad7fabfa2efe5a3b8907473a"
    },
    "kernelspec": {
      "display_name": "Python 3.7.10 ('Commons')",
      "language": "python",
      "name": "python3"
    },
    "language_info": {
      "codemirror_mode": {
        "name": "ipython",
        "version": 3
      },
      "file_extension": ".py",
      "mimetype": "text/x-python",
      "name": "python",
      "nbconvert_exporter": "python",
      "pygments_lexer": "ipython3",
      "version": "3.7.10"
    },
    "orig_nbformat": 4,
    "colab": {
      "name": "Palmer_Penguins_Analysis copy.ipynb",
      "provenance": [],
      "include_colab_link": true
    }
  },
  "nbformat": 4,
  "nbformat_minor": 0
}